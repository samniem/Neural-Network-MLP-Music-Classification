{
 "cells": [
  {
   "cell_type": "markdown",
   "metadata": {},
   "source": [
    "# Music Genre Classification Using MLP Neural Network\n",
    "\n",
    "Classify music by genres ranging from rock and blues to classical. The data has 264 features and 4363 songs selected from the Million Song Dataset. For the MLP classifier two accuracy metrics are used: classification accuracy and log-loss for each genre. The music genres used for the data set are\n",
    "1. Pop_Rock, 2. Electronic, 3. Rap, 4. Jazz, 5. Latin, 6. RnB, 7. International, 8. Country, 9. Reggae and 10. Blues.\n",
    "\n",
    "## Libraries and Data Loading"
   ]
  },
  {
   "cell_type": "code",
   "execution_count": 1,
   "metadata": {},
   "outputs": [],
   "source": [
    "import numpy as np\n",
    "import pandas as pd\n",
    "import matplotlib.pyplot as plt\n",
    "import csv\n",
    "from scipy.special import expit\n",
    "\n",
    "from sklearn.preprocessing import StandardScaler\n",
    "from sklearn.preprocessing import MinMaxScaler\n",
    "from sklearn.model_selection import StratifiedShuffleSplit\n",
    "from sklearn.metrics import log_loss\n",
    "from sklearn.metrics import confusion_matrix"
   ]
  },
  {
   "cell_type": "code",
   "execution_count": 2,
   "metadata": {},
   "outputs": [
    {
     "name": "stdout",
     "output_type": "stream",
     "text": [
      "Training data shape: (4363, 264)\n",
      "Training labels shape: (4363, 1)\n",
      "\n",
      "---Label counts---\n",
      "Label 1 = [2178.]\n",
      "Label 2 = [618.]\n",
      "Label 3 = [326.]\n",
      "Label 4 = [253.]\n",
      "Label 5 = [214.]\n",
      "Label 6 = [260.]\n",
      "Label 7 = [141.]\n",
      "Label 8 = [195.]\n",
      "Label 9 = [92.]\n",
      "Label 10 = [86.]\n"
     ]
    }
   ],
   "source": [
    "x = pd.read_csv('train_data.csv',header=None)\n",
    "label = np.array(pd.read_csv('train_labels.csv', header=None))\n",
    "label = np.subtract(label,1)\n",
    "\n",
    "print(\"Training data shape:\", x.shape)\n",
    "print(\"Training labels shape:\", label.shape)\n",
    "print(\"\\n---Label counts---\")\n",
    "label_count = np.zeros((10,1))\n",
    "for i in range(label.shape[0]):\n",
    "        label_count[label[i]] += 1\n",
    "for i in range(0,10):\n",
    "    print(\"Label\", i+1,\"=\"  , label_count[i])"
   ]
  },
  {
   "cell_type": "markdown",
   "metadata": {},
   "source": [
    "# Principal Component Analysis\n",
    "\n",
    "Principal component analysis (PCA) has been chosen to remove redundant information from the data set. The data is first normalized with Sklearn's standard scaler followed by calculating eigenvalues $\\lambda$ and eigenvectors.\n",
    "Figure 1 below shows the total explained variance of the principal components. The first 40 principal components explain approximately 81% of the total variance and the first 175 principal components explain about 99.2% of the total variance. "
   ]
  },
  {
   "cell_type": "code",
   "execution_count": 3,
   "metadata": {},
   "outputs": [
    {
     "data": {
      "image/png": "[encoded data removed]",
      "text/plain": [
       "<Figure size 432x288 with 1 Axes>"
      ]
     },
     "metadata": {
      "needs_background": "light"
     },
     "output_type": "display_data"
    },
    {
     "name": "stdout",
     "output_type": "stream",
     "text": [
      "Shape of X after eigenvector transformation\n",
      "(4363, 175)\n"
     ]
    }
   ],
   "source": [
    "#standard scaling and eigenvalues\n",
    "sc = StandardScaler()\n",
    "X_std = sc.fit_transform(x)\n",
    "cov_mat = np.cov(X_std.T)\n",
    "eigen_values, eigen_vectors = np.linalg.eig(cov_mat)\n",
    "\n",
    "#Calculate and plot explained variance\n",
    "total = sum(eigen_values)\n",
    "variance_exp = [(i / total) for i in sorted(eigen_values, reverse=True)]\n",
    "cum_var_exp = np.cumsum(variance_exp)\n",
    "plt.bar(range(1,265), variance_exp, alpha=0.5, align='center',label='individual explained variance')\n",
    "plt.step(range(1,265), cum_var_exp, where='mid', label='cumulative explained variance')\n",
    "plt.ylabel('Explained variance ratio')\n",
    "plt.xlabel('Principal components')\n",
    "plt.legend(loc='best')\n",
    "plt.plot(40,0.81,'X')\n",
    "plt.plot(175,0.992,'X')\n",
    "plt.show()\n",
    "\n",
    "#Transform data by eigenvectors\n",
    "w = eigen_vectors[:,0:175]\n",
    "X_pca = X_std.dot(w)\n",
    "print(\"Shape of X after eigenvector transformation\")\n",
    "print(X_pca.shape)"
   ]
  },
  {
   "cell_type": "markdown",
   "metadata": {},
   "source": [
    "# Train-test split\n",
    "\n",
    "The labels are unevenly distributed so using stratified shuffle split to keep the correct label ratios for training and test data sets. Test data set size is 25 %."
   ]
  },
  {
   "cell_type": "code",
   "execution_count": 4,
   "metadata": {},
   "outputs": [
    {
     "name": "stdout",
     "output_type": "stream",
     "text": [
      "Training data shape: (3272, 175)\n",
      "Training labels shape: (3272, 1)\n",
      "\n",
      "---Label counts---\n",
      "Label 1 = [1633.]\n",
      "Label 2 = [463.]\n",
      "Label 3 = [244.]\n",
      "Label 4 = [190.]\n",
      "Label 5 = [161.]\n",
      "Label 6 = [195.]\n",
      "Label 7 = [106.]\n",
      "Label 8 = [146.]\n",
      "Label 9 = [69.]\n",
      "Label 10 = [65.]\n",
      "\n",
      "Test data shape: (1091, 175)\n",
      "Test labels shape: (1091, 1)\n",
      "\n",
      "---Label counts---\n",
      "Label 1 = [545.]\n",
      "Label 2 = [155.]\n",
      "Label 3 = [82.]\n",
      "Label 4 = [63.]\n",
      "Label 5 = [53.]\n",
      "Label 6 = [65.]\n",
      "Label 7 = [35.]\n",
      "Label 8 = [49.]\n",
      "Label 9 = [23.]\n",
      "Label 10 = [21.]\n"
     ]
    }
   ],
   "source": [
    "#\n",
    "sss = StratifiedShuffleSplit(n_splits = 2, test_size = 0.25, \n",
    "                             random_state=0)\n",
    "for train_index, test_index in sss.split(X_pca, label):\n",
    "    X_train, X_test = X_pca[train_index], X_pca[test_index]\n",
    "    y_train, y_test = label[train_index], label[test_index]\n",
    "    \n",
    "\n",
    "print(\"Training data shape:\", X_train.shape)\n",
    "print(\"Training labels shape:\", y_train.shape)\n",
    "print(\"\\n---Label counts---\")\n",
    "label_count = np.zeros((10,1))\n",
    "for i in range(y_train.shape[0]):\n",
    "        label_count[y_train[i]] += 1\n",
    "for i in range(0,10):\n",
    "    print(\"Label\", i+1,\"=\"  , label_count[i])\n",
    "    \n",
    "print(\"\\nTest data shape:\", X_test.shape)\n",
    "print(\"Test labels shape:\", y_test.shape)\n",
    "print(\"\\n---Label counts---\")\n",
    "label_count = np.zeros((10,1))\n",
    "for i in range(y_test.shape[0]):\n",
    "        label_count[y_test[i]] += 1\n",
    "for i in range(0,10):\n",
    "    print(\"Label\", i+1,\"=\"  , label_count[i])"
   ]
  },
  {
   "cell_type": "markdown",
   "metadata": {},
   "source": [
    "# Multilayer Perceptron\n",
    "\n",
    "A multilayer perceptron (MLP) is an artificial neural network that can be split to three parts: input layer, hidden layer and output layer. MLP is a feedforward network that is utilized for supervised learning through backpropagation. The MLP implementation uses sigmoid activation function\n",
    "$$s = \\frac{1}{1+e^{-x}}$$."
   ]
  },
  {
   "cell_type": "code",
   "execution_count": 5,
   "metadata": {},
   "outputs": [],
   "source": [
    "class NeuralNetMLP(object):\n",
    "    def __init__(self, n_output, n_features, n_hidden=30, l1=0.0,\n",
    "                l2=0.0, epochs=500, eta=0.001, alpha=0.0,\n",
    "                decrease_const=0.0, shuffle=True, minibatches=1,\n",
    "                random_state=None):\n",
    "        np.random.seed(random_state)\n",
    "        self.n_output = n_output\n",
    "        self.n_features = n_features\n",
    "        self.n_hidden = n_hidden\n",
    "        self.w1, self.w2 = self._initialize_weights()\n",
    "        self.l1 = l1\n",
    "        self.l2 = l2\n",
    "        self.epochs = epochs\n",
    "        self.eta = eta\n",
    "        self.alpha = alpha\n",
    "        self.decrease_const = decrease_const\n",
    "        self.shuffle = shuffle\n",
    "        self.minibatches = minibatches\n",
    "        \n",
    "    def _encode_labels(self, y, k):\n",
    "        onehot = np.zeros((k, y.shape[0]))\n",
    "        for idx, val in enumerate(y):\n",
    "            onehot[val, idx] = 1.0\n",
    "        return onehot\n",
    "        \n",
    "    def _initialize_weights(self):\n",
    "        w1 = np.random.uniform(-1.0, 1.0, \n",
    "                                   size=self.n_hidden*(self.n_features+1))\n",
    "        w1 = w1.reshape(self.n_hidden, self.n_features +1)\n",
    "        w2 = np.random.uniform(-1.0, 1.0, \n",
    "                                   size=self.n_output*(self.n_hidden +1))\n",
    "        w2 = w2.reshape(self.n_output, self.n_hidden + 1)\n",
    "        return w1, w2\n",
    "        \n",
    "    def _sigmoid(self, z):\n",
    "        return 1.0/(1.0 + np.exp(-z))\n",
    "        \n",
    "    def _sigmoid_gradient(self, z):\n",
    "        sg = self._sigmoid(z)\n",
    "        return sg * (1 - sg)\n",
    "        \n",
    "    def _add_bias_unit(self, X, how='column'):\n",
    "        if how == 'column':\n",
    "            X_new = np.ones((X.shape[0], X.shape[1]+1))\n",
    "            X_new[:, 1:] = X\n",
    "        elif how == 'row':\n",
    "            X_new = np.ones((X.shape[0]+1,X.shape[1]))\n",
    "            X_new[1:, :] = X\n",
    "        else:\n",
    "            raise AttributeError('How must be col or row')\n",
    "        return X_new\n",
    "            \n",
    "    def _feedforward(self, X, w1, w2):\n",
    "        a1 = self._add_bias_unit(X, how='column')\n",
    "        z2 = w1.dot(a1.T)\n",
    "        a2 = self._sigmoid(z2)\n",
    "        a2 = self._add_bias_unit(a2, how='row')\n",
    "        z3 = w2.dot(a2)\n",
    "        a3 = self._sigmoid(z3)\n",
    "        return a1, z2, a2, z3, a3\n",
    "        \n",
    "    def _L2_reg(self, lambda_, w1, w2):\n",
    "        return (lambda_/2.0) * (np.sum(w1[:, 1:] ** 2)\\\n",
    "                                   + np.sum(w2[:, 1:] ** 2))\n",
    "    def _L1_reg(self, lambda_, w1, w2):\n",
    "        return (lambda_/2.0) * (np.abs(w1[:, 1:].sum())\\\n",
    "                                   + np.abs(w2[:, 1:].sum()))\n",
    "        \n",
    "    def _get_cost(self, y_enc, output, w1, w2):\n",
    "        term1 = -y_enc * (np.log(output))\n",
    "        term2 = (1 - y_enc) * np.log(1 - output)\n",
    "        cost = np.sum(term1 - term2)\n",
    "        L1_term = self._L1_reg(self.l1, w1, w2)\n",
    "        L2_term = self._L2_reg(self.l2, w1, w2)\n",
    "        cost = cost + L1_term + L2_term\n",
    "        return cost\n",
    "        \n",
    "    def _get_gradient(self, a1, a2, a3, z2, y_enc, w1, w2):\n",
    "        sigma3 = a3 - y_enc\n",
    "        z2 = self._add_bias_unit(z2, how='row')\n",
    "        sigma2 = w2.T.dot(sigma3) * self._sigmoid_gradient(z2)\n",
    "        sigma2 = sigma2[1:, :]\n",
    "        grad1 = sigma2.dot(a1)\n",
    "        grad2 = sigma3.dot(a2.T)\n",
    "            \n",
    "        grad1[:, 1:] += (w1[:, 1:] * (self.l1 + self.l2))\n",
    "        grad2[:, 1:] += (w2[:, 1:] * (self.l1 + self.l2))\n",
    "        return grad1, grad2\n",
    "        \n",
    "    def predict(self, X):\n",
    "        a1, z2, a2, z3, a3 = self._feedforward(X, self.w1, self.w2)\n",
    "        print(\"z3 shape:\", z3.shape)\n",
    "        y_pred = np.argmax(z3, axis=0)\n",
    "        return y_pred, z3\n",
    "        \n",
    "    def fit(self, X, y, print_progress=False):\n",
    "        self.cost_ = []\n",
    "        X_data, y_data = X.copy(), y.copy()\n",
    "        y_enc = self._encode_labels(y, self.n_output)\n",
    "            \n",
    "        delta_w1_prev = np.zeros(self.w1.shape)\n",
    "        delta_w2_prev = np.zeros(self.w2.shape)\n",
    "            \n",
    "        for i in range(self.epochs):\n",
    "            self.eta /= (1+ self.decrease_const*i)\n",
    "            if  print_progress:\n",
    "                print(\"Epoch:\", i+1, self.epochs)\n",
    "            if self.shuffle:\n",
    "                idx = np.random.permutation(y_data.shape[0])\n",
    "                X_data, y_enc = X_data[idx], y_enc[:, idx]\n",
    "                    \n",
    "            mini = np.array_split(range(y_data.shape[0]), self.minibatches)\n",
    "            for idx in mini:\n",
    "                a1, z2, a2, z3, a3 = self._feedforward(X_data[idx], self.w1, self.w2)\n",
    "                cost = self._get_cost(y_enc=y_enc[:, idx], output=a3, w1=self.w1,w2=self.w2)\n",
    "                self.cost_.append(cost)\n",
    "                    \n",
    "                grad1, grad2 = self._get_gradient(a1=a1, a2=a2, a3=a3, z2=z2, y_enc=y_enc[:, idx],\n",
    "                                                     w1=self.w1,w2=self.w2)\n",
    "                delta_w1, delta_w2 = self.eta * grad1, self.eta * grad2\n",
    "                self.w1 -= (delta_w1 + (self.alpha * delta_w1_prev))\n",
    "                self.w2 -= (delta_w2 + (self.alpha * delta_w2_prev))\n",
    "                delta_w1_prev, delta_w2_prev = delta_w1, delta_w2\n",
    "        return self"
   ]
  },
  {
   "cell_type": "code",
   "execution_count": null,
   "metadata": {},
   "outputs": [],
   "source": [
    "nn = NeuralNetMLP(n_output=10, n_features=X_pca.shape[1],n_hidden=150,\n",
    "                 l2=0.1,l1=0.05, epochs=3000, eta=0.001, alpha=0.001,\n",
    "                 decrease_const=0.00001, shuffle=True,\n",
    "                 minibatches=50,random_state=1)\n",
    "nn.fit(X_train, y_train, print_progress=False)"
   ]
  },
  {
   "cell_type": "markdown",
   "metadata": {},
   "source": [
    "# Label Prediction"
   ]
  },
  {
   "cell_type": "code",
   "execution_count": null,
   "metadata": {},
   "outputs": [],
   "source": [
    "plt.plot(range(len(nn.cost_)), nn.cost_)\n",
    "plt.ylim([0, 2000])\n",
    "plt.ylabel('Cost')\n",
    "plt.xlabel('Epochs * 50')\n",
    "plt.tight_layout()\n",
    "plt.show()"
   ]
  },
  {
   "cell_type": "code",
   "execution_count": null,
   "metadata": {},
   "outputs": [],
   "source": [
    "batches = np.array_split(range(len(nn.cost_)), 1000)\n",
    "cost_ary = np.array(nn.cost_)\n",
    "cost_avgs = [np.mean(cost_ary[i]) for i in batches]\n",
    "plt.plot(range(len(cost_avgs)), cost_avgs, color='red')\n",
    "plt.ylim([0,500])\n",
    "plt.ylabel('Cost')\n",
    "plt.xlabel('Epochs')\n",
    "plt.tight_layout()\n",
    "plt.show()"
   ]
  },
  {
   "cell_type": "code",
   "execution_count": null,
   "metadata": {},
   "outputs": [],
   "source": [
    "def calculate_accuracy(y, y_hat):\n",
    "    N = y.shape[0];\n",
    "    correct = 0;\n",
    "    for i in range(N):\n",
    "        if (y[i] == y_hat[i]):\n",
    "            correct += 1\n",
    "    accuracy = round(correct/N,4)*100\n",
    "    return accuracy"
   ]
  },
  {
   "cell_type": "code",
   "execution_count": null,
   "metadata": {},
   "outputs": [],
   "source": [
    "y_test_pred, probabilities = nn.predict(X_test)\n",
    "accuracy = calculate_accuracy(y_test, y_test_pred)\n",
    "print(\"Prediction shape:\",y_test_pred.shape)\n",
    "logloss = np.transpose(probabilities)\n",
    "scaler = MinMaxScaler(copy=True, feature_range=(0,1))\n",
    "logloss = scaler.fit_transform(logloss)\n",
    "print(\"Probabilities shape:\", logloss.shape,\"\\n\")\n",
    "print(\"Labeling accuracy\")\n",
    "print(accuracy)\n",
    "\n",
    "print(\"\\n---Label counts---\")\n",
    "label_count2 = np.zeros((10,1))\n",
    "for i in range(y_test_pred.shape[0]):\n",
    "        label_count2[y_test_pred[i]] += 1\n",
    "for i in range(0,10):\n",
    "    print(\"Label\", i+1,\"=\"  , label_count2[i])"
   ]
  },
  {
   "cell_type": "code",
   "execution_count": null,
   "metadata": {},
   "outputs": [],
   "source": [
    "print(\"log loss:\")\n",
    "print(log_loss(y_test, probabilities.T))\n",
    "print(\"\\nConfusion matrix:\")\n",
    "confusion_matrix(y_test, y_test_pred)"
   ]
  },
  {
   "cell_type": "markdown",
   "metadata": {
    "collapsed": true
   },
   "source": [
    "# References\n",
    "[1] Sklearn. https://scikit-learn.org/stable/modules/generated/sklearn.preprocessing.StandardScaler.html\n",
    "\n",
    "[2] Lay, D. Lay. S, McDonald, J. Linear Algebra and its Applications. 5th Ed. Harlow, England: Pearson, 2016. ISBN 978-1-292-09223-2. "
   ]
  },
  {
   "cell_type": "code",
   "execution_count": null,
   "metadata": {},
   "outputs": [],
   "source": []
  }
 ],
 "metadata": {
  "kernelspec": {
   "display_name": "Python 3",
   "language": "python",
   "name": "python3"
  },
  "language_info": {
   "codemirror_mode": {
    "name": "ipython",
    "version": 3
   },
   "file_extension": ".py",
   "mimetype": "text/x-python",
   "name": "python",
   "nbconvert_exporter": "python",
   "pygments_lexer": "ipython3",
   "version": "3.7.0"
  }
 },
 "nbformat": 4,
 "nbformat_minor": 2
}
